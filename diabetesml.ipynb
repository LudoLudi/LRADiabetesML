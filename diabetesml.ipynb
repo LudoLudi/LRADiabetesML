{
 "cells": [
  {
   "cell_type": "markdown",
   "metadata": {},
   "source": [
    "Below is a logistic regression algorithm for "
   ]
  },
  {
   "cell_type": "code",
   "execution_count": null,
   "metadata": {},
   "outputs": [],
   "source": [
    "import pandas as pd\n",
    "from sklearn.model_selection import train_test_split, GridSearchCV\n",
    "from sklearn.preprocessing import StandardScaler\n",
    "from sklearn.linear_model import LogisticRegression\n",
    "from sklearn.metrics import classification_report, confusion_matrix, roc_auc_score\n",
    "\n",
    "# Load dataset\n",
    "data = pd.read_csv('diabetes.csv')\n",
    "\n",
    "# Separate features (X) and target (y)\n",
    "X = data.drop('Outcome', axis=1)  # All columns except 'Outcome'\n",
    "y = data['Outcome']  # Only the 'Outcome' column\n",
    "\n",
    "# Split the data into training and test sets\n",
    "# 80% of the data for training, 20% for testing\n",
    "X_train, X_test, y_train, y_test = train_test_split(X, y, test_size=0.2, random_state=42)\n",
    "\n",
    "# Standardize the features (mean=0, variance=1)\n",
    "scaler = StandardScaler()\n",
    "X_train = scaler.fit_transform(X_train)  # Fit and transform the training data\n",
    "X_test = scaler.transform(X_test)  # Only transform the test data\n",
    "\n",
    "# Initialize the Logistic Regression model\n",
    "model = LogisticRegression()\n",
    "\n",
    "# Train the model using the training data\n",
    "model.fit(X_train, y_train)\n",
    "\n",
    "# Make predictions on the test data\n",
    "y_pred = model.predict(X_test)\n",
    "\n",
    "# Evaluate the model\n",
    "# Print classification report (precision, recall, F1-score)\n",
    "print(\"Classification Report:\\n\", classification_report(y_test, y_pred))\n",
    "\n",
    "# Print confusion matrix (true positives, false positives, true negatives, false negatives)\n",
    "print(\"Confusion Matrix:\\n\", confusion_matrix(y_test, y_pred))\n",
    "\n",
    "# Print ROC AUC score (a measure of model's performance)\n",
    "print(\"ROC AUC Score:\\n\", roc_auc_score(y_test, y_pred))\n",
    "\n",
    "# Hyperparameter tuning using GridSearchCV (optional)\n",
    "# Define a parameter grid to search for best 'C' (regularization) and 'solver' (optimization algorithm)\n",
    "param_grid = {'C': [0.1, 1, 10, 100], 'solver': ['liblinear']}\n",
    "# Initialize GridSearchCV with Logistic Regression model, parameter grid, and 5-fold cross-validation\n",
    "grid = GridSearchCV(LogisticRegression(), param_grid, cv=5)\n",
    "\n",
    "# Fit the grid search to the training data\n",
    "grid.fit(X_train, y_train)\n",
    "\n",
    "# Print the best parameters found by grid search\n",
    "print(\"Best parameters found: \", grid.best_params_)\n",
    "\n",
    "# Print the best cross-validation score achieved during grid search\n",
    "print(\"Best cross-validation score: \", grid.best_score_)\n"
   ]
  }
 ],
 "metadata": {
  "kernelspec": {
   "display_name": "Python 3 (ipykernel)",
   "language": "python",
   "name": "python3"
  },
  "language_info": {
   "codemirror_mode": {
    "name": "ipython",
    "version": 3
   },
   "file_extension": ".py",
   "mimetype": "text/x-python",
   "name": "python",
   "nbconvert_exporter": "python",
   "pygments_lexer": "ipython3",
   "version": "3.9.13"
  }
 },
 "nbformat": 4,
 "nbformat_minor": 4
}
